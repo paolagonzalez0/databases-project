{
 "cells": [
  {
   "cell_type": "code",
   "execution_count": 1,
   "metadata": {},
   "outputs": [],
   "source": [
    "import store"
   ]
  },
  {
   "cell_type": "code",
   "execution_count": 2,
   "metadata": {},
   "outputs": [],
   "source": [
    "import store\n",
    "import pandas as pd\n",
    "from traceback import print_exc as pe\n",
    "\n",
    "# For testing, python will not reload a module that is already loaded (unless you force it to)\n",
    "from importlib import reload\n",
    "reload(store);"
   ]
  },
  {
   "cell_type": "markdown",
   "metadata": {},
   "source": [
    "### Load data into the database"
   ]
  },
  {
   "cell_type": "code",
   "execution_count": 3,
   "metadata": {},
   "outputs": [],
   "source": [
    "# For testing purposes, begin with an empty database.\n",
    "store.RebuildDB()"
   ]
  },
  {
   "cell_type": "code",
   "execution_count": 4,
   "metadata": {},
   "outputs": [
    {
     "name": "stdout",
     "output_type": "stream",
     "text": [
      "File: data/sales_to_load/Sales_201901.csv loaded successfully!\n",
      "File: data/sales_to_load/Sales_201902.csv loaded successfully!\n",
      "File: data/sales_to_load/Sales_201903.csv loaded successfully!\n",
      "File: data/sales_to_load/Sales_201904.csv loaded successfully!\n",
      "File: data/sales_to_load/Sales_201905.csv loaded successfully!\n",
      "File: data/sales_to_load/Sales_201906.csv loaded successfully!\n",
      "File: data/sales_to_load/Sales_201907.csv loaded successfully!\n",
      "File: data/sales_to_load/Sales_201908.csv loaded successfully!\n",
      "File: data/sales_to_load/Sales_201909.csv loaded successfully!\n",
      "File: data/sales_to_load/Sales_201910.csv loaded successfully!\n",
      "File: data/sales_to_load/Sales_201911.csv loaded successfully!\n",
      "File: data/sales_to_load/Sales_201912.csv loaded successfully!\n",
      "File: data/sales_to_load/Sales_202001.csv loaded successfully!\n",
      "File: data/sales_to_load/Sales_202002.csv loaded successfully!\n",
      "File: data/sales_to_load/Sales_202003.csv loaded successfully!\n",
      "File: data/sales_to_load/Sales_202004.csv loaded successfully!\n",
      "File: data/sales_to_load/Sales_202005.csv loaded successfully!\n",
      "File: data/sales_to_load/Sales_202006.csv loaded successfully!\n",
      "File: data/sales_to_load/Sales_202007.csv loaded successfully!\n",
      "File: data/sales_to_load/Sales_202008.csv loaded successfully!\n",
      "File: data/sales_to_load/Sales_202009.csv loaded successfully!\n",
      "File: data/sales_to_load/Sales_202010.csv loaded successfully!\n",
      "File: data/sales_to_load/Sales_202011.csv loaded successfully!\n",
      "File: data/sales_to_load/Sales_202012.csv loaded successfully!\n",
      "File: data/sales_to_load/Sales_202101.csv loaded successfully!\n",
      "File: data/sales_to_load/Sales_202102.csv loaded successfully!\n",
      "File: data/sales_to_load/Sales_202103.csv loaded successfully!\n",
      "File: data/sales_to_load/Sales_202104.csv loaded successfully!\n",
      "File: data/sales_to_load/Sales_202105.csv loaded successfully!\n",
      "File: data/sales_to_load/Sales_202106.csv loaded successfully!\n",
      "File: data/sales_to_load/Sales_202107.csv loaded successfully!\n",
      "File: data/sales_to_load/Sales_202108.csv loaded successfully!\n",
      "File: data/sales_to_load/Sales_202109.csv loaded successfully!\n",
      "File: data/sales_to_load/Sales_202110.csv loaded successfully!\n"
     ]
    }
   ],
   "source": [
    "store.LoadNewFiles()"
   ]
  }
 ],
 "metadata": {
  "kernelspec": {
   "display_name": "Python 3 (ipykernel)",
   "language": "python",
   "name": "python3"
  },
  "language_info": {
   "codemirror_mode": {
    "name": "ipython",
    "version": 3
   },
   "file_extension": ".py",
   "mimetype": "text/x-python",
   "name": "python",
   "nbconvert_exporter": "python",
   "pygments_lexer": "ipython3",
   "version": "3.8.8"
  },
  "vscode": {
   "interpreter": {
    "hash": "b685f7fa28f9105b1e59f6e57c41866b18f0863968965f5a8dde1eb160b06bdf"
   }
  }
 },
 "nbformat": 4,
 "nbformat_minor": 4
}
