{
 "cells": [
  {
   "cell_type": "markdown",
   "id": "bf94da2e-ca73-4b30-9541-528a45c2c03b",
   "metadata": {},
   "source": [
    "#### **Structure of Store Database**\n",
    "- tCust - **cust_id**, first, last, addr, zip\n",
    "- tZip - **zip**, city, st\n",
    "- tState - **st**, state\n",
    "- tProd - **prod_id**, prod_desc, unit_price\n",
    "- tOrder - **order_id**, cust_id, date\n",
    "- tOrderDetail - **order_id**, **prod_id**, qty\n",
    "\n",
    "**Foreign Key Dependencies**\n",
    "- st from tZip to tState\n",
    "- zip from tCust to tZip\n",
    "- cust_id from tOrder to tCust\n",
    "- prod_id from tOrderDetail to tProd"
   ]
  },
  {
   "cell_type": "code",
   "execution_count": 1,
   "id": "3df9305b-33ee-4dba-9df6-8ecfc430502b",
   "metadata": {},
   "outputs": [],
   "source": [
    "import store\n",
    "# While testing, need to force python to reload the module\n",
    "# Otherwise, it will not see our changes\n",
    "from importlib import reload\n",
    "reload(store);"
   ]
  },
  {
   "cell_type": "markdown",
   "id": "95df5a97-4f9f-41a4-81a6-98470e713941",
   "metadata": {},
   "source": [
    "### Build the Database (i.e. Define the tables)"
   ]
  },
  {
   "cell_type": "code",
   "execution_count": 4,
   "id": "09f0082a-427b-40f2-bdcd-af933ce9db6e",
   "metadata": {},
   "outputs": [],
   "source": [
    "store.RunAction(\"DROP TABLE IF EXISTS tCust;\")\n",
    "sql = \"\"\"\n",
    "CREATE TABLE tCust(\n",
    "    cust_id INTEGER PRIMARY KEY,\n",
    "    first TEXT NOT NULL,\n",
    "    last TEXT NOT NULL,\n",
    "    addr TEXT NOT NULL,\n",
    "    zip TEXT NOT NULL REFERENCES tZip(zip)\n",
    "    )\n",
    ";\"\"\"\n",
    "store.RunAction(sql)"
   ]
  },
  {
   "cell_type": "code",
   "execution_count": 5,
   "id": "8a48ee89-8d7e-4c61-97af-620b4dcc7cf8",
   "metadata": {},
   "outputs": [],
   "source": [
    "store.RunAction(\"DROP TABLE IF EXISTS tZip;\")\n",
    "sql = \"\"\"\n",
    "CREATE TABLE tZip (\n",
    "    zip TEXT PRIMARY KEY CHECK(length(zip)==5),\n",
    "    city TEXT NOT NULL,\n",
    "    st TEXT NOT NULL REFERENCES tState(st)\n",
    ");\"\"\"\n",
    "store.RunAction(sql)"
   ]
  },
  {
   "cell_type": "code",
   "execution_count": 7,
   "id": "3e6cd595-5337-44b3-a4e6-f50773fb2f20",
   "metadata": {},
   "outputs": [],
   "source": [
    "store.RunAction(\"DROP TABLE IF EXISTS tState;\")\n",
    "sql = \"\"\"\n",
    " CREATE TABLE tState (\n",
    "     st TEXT PRIMARY KEY CHECK (length(st)==2),\n",
    "     state TEXT NOT NULL\n",
    " );\"\"\"\n",
    "store.RunAction(sql)"
   ]
  },
  {
   "cell_type": "code",
   "execution_count": 8,
   "id": "a8bae353-24bc-4097-a5a0-5a36792486a8",
   "metadata": {},
   "outputs": [],
   "source": [
    "store.RunAction(\"DROP TABLE IF EXISTS tOrder;\")\n",
    "sql = \"\"\"\n",
    "CREATE TABLE tOrder (\n",
    "order_id INTEGER PRIMARY KEY,\n",
    "cust_id INTEGER NOT NULL REFERENCES tCust(cust_id),\n",
    "date TEXT NOT NULL CHECK(date LIKE '____-__-__')\n",
    " );\"\"\"\n",
    "store.RunAction(sql)"
   ]
  },
  {
   "cell_type": "code",
   "execution_count": 11,
   "id": "88d643d1-f2e6-4a6e-94e4-b642ec34b07e",
   "metadata": {},
   "outputs": [],
   "source": [
    "store.RunAction(\"DROP TABLE IF EXISTS tOrderDetail;\")\n",
    "sql = \"\"\"\n",
    "CREATE TABLE tOrderDetail (\n",
    "    order_id INTEGER NOT NULL REFERENCES tOrder(order_id),\n",
    "    prod_id INTEGER NOT NULL REFERENCES tProd(prod_id),\n",
    "    qty INTEGER NOT NULL CHECK(qty>0),\n",
    "    PRIMARY KEY (order_id, prod_id)\n",
    " );\"\"\"\n",
    "store.RunAction(sql)"
   ]
  },
  {
   "cell_type": "code",
   "execution_count": 12,
   "id": "251df401-533d-4e00-8801-d2af758ef979",
   "metadata": {},
   "outputs": [],
   "source": [
    "store.RunAction(\"DROP TABLE IF EXISTS tProd;\")\n",
    "sql = \"\"\"\n",
    "CREATE TABLE tProd (\n",
    "    prod_id INTEGER PRIMARY KEY,\n",
    "    prod_desc TEXT NOT NULL,\n",
    "    unit_price REAL NOT NULL\n",
    ");\"\"\"\n",
    "store.RunAction(sql)"
   ]
  },
  {
   "cell_type": "code",
   "execution_count": 18,
   "id": "e6b10a82-f120-4ab4-b743-c1e2af9778db",
   "metadata": {},
   "outputs": [
    {
     "data": {
      "text/html": [
       "<div>\n",
       "<style scoped>\n",
       "    .dataframe tbody tr th:only-of-type {\n",
       "        vertical-align: middle;\n",
       "    }\n",
       "\n",
       "    .dataframe tbody tr th {\n",
       "        vertical-align: top;\n",
       "    }\n",
       "\n",
       "    .dataframe thead th {\n",
       "        text-align: right;\n",
       "    }\n",
       "</style>\n",
       "<table border=\"1\" class=\"dataframe\">\n",
       "  <thead>\n",
       "    <tr style=\"text-align: right;\">\n",
       "      <th></th>\n",
       "      <th>type</th>\n",
       "      <th>name</th>\n",
       "      <th>tbl_name</th>\n",
       "      <th>rootpage</th>\n",
       "      <th>sql</th>\n",
       "    </tr>\n",
       "  </thead>\n",
       "  <tbody>\n",
       "    <tr>\n",
       "      <th>0</th>\n",
       "      <td>table</td>\n",
       "      <td>tCust</td>\n",
       "      <td>tCust</td>\n",
       "      <td>2</td>\n",
       "      <td>CREATE TABLE tCust(\\n    cust_id INTEGER PRIMA...</td>\n",
       "    </tr>\n",
       "    <tr>\n",
       "      <th>1</th>\n",
       "      <td>table</td>\n",
       "      <td>tZip</td>\n",
       "      <td>tZip</td>\n",
       "      <td>3</td>\n",
       "      <td>CREATE TABLE tZip (\\n    zip TEXT PRIMARY KEY ...</td>\n",
       "    </tr>\n",
       "    <tr>\n",
       "      <th>2</th>\n",
       "      <td>index</td>\n",
       "      <td>sqlite_autoindex_tZip_1</td>\n",
       "      <td>tZip</td>\n",
       "      <td>4</td>\n",
       "      <td>None</td>\n",
       "    </tr>\n",
       "    <tr>\n",
       "      <th>3</th>\n",
       "      <td>table</td>\n",
       "      <td>tState</td>\n",
       "      <td>tState</td>\n",
       "      <td>5</td>\n",
       "      <td>CREATE TABLE tState (\\n     st TEXT PRIMARY KE...</td>\n",
       "    </tr>\n",
       "    <tr>\n",
       "      <th>4</th>\n",
       "      <td>index</td>\n",
       "      <td>sqlite_autoindex_tState_1</td>\n",
       "      <td>tState</td>\n",
       "      <td>6</td>\n",
       "      <td>None</td>\n",
       "    </tr>\n",
       "    <tr>\n",
       "      <th>5</th>\n",
       "      <td>table</td>\n",
       "      <td>tOrder</td>\n",
       "      <td>tOrder</td>\n",
       "      <td>7</td>\n",
       "      <td>CREATE TABLE tOrder (\\norder_id INTEGER PRIMAR...</td>\n",
       "    </tr>\n",
       "    <tr>\n",
       "      <th>6</th>\n",
       "      <td>table</td>\n",
       "      <td>tOrderDetail</td>\n",
       "      <td>tOrderDetail</td>\n",
       "      <td>8</td>\n",
       "      <td>CREATE TABLE tOrderDetail (\\n    order_id INTE...</td>\n",
       "    </tr>\n",
       "    <tr>\n",
       "      <th>7</th>\n",
       "      <td>index</td>\n",
       "      <td>sqlite_autoindex_tOrderDetail_1</td>\n",
       "      <td>tOrderDetail</td>\n",
       "      <td>9</td>\n",
       "      <td>None</td>\n",
       "    </tr>\n",
       "    <tr>\n",
       "      <th>8</th>\n",
       "      <td>table</td>\n",
       "      <td>tProd</td>\n",
       "      <td>tProd</td>\n",
       "      <td>10</td>\n",
       "      <td>CREATE TABLE tProd (\\n    prod_id INTEGER PRIM...</td>\n",
       "    </tr>\n",
       "  </tbody>\n",
       "</table>\n",
       "</div>"
      ],
      "text/plain": [
       "    type                             name      tbl_name  rootpage  \\\n",
       "0  table                            tCust         tCust         2   \n",
       "1  table                             tZip          tZip         3   \n",
       "2  index          sqlite_autoindex_tZip_1          tZip         4   \n",
       "3  table                           tState        tState         5   \n",
       "4  index        sqlite_autoindex_tState_1        tState         6   \n",
       "5  table                           tOrder        tOrder         7   \n",
       "6  table                     tOrderDetail  tOrderDetail         8   \n",
       "7  index  sqlite_autoindex_tOrderDetail_1  tOrderDetail         9   \n",
       "8  table                            tProd         tProd        10   \n",
       "\n",
       "                                                 sql  \n",
       "0  CREATE TABLE tCust(\\n    cust_id INTEGER PRIMA...  \n",
       "1  CREATE TABLE tZip (\\n    zip TEXT PRIMARY KEY ...  \n",
       "2                                               None  \n",
       "3  CREATE TABLE tState (\\n     st TEXT PRIMARY KE...  \n",
       "4                                               None  \n",
       "5  CREATE TABLE tOrder (\\norder_id INTEGER PRIMAR...  \n",
       "6  CREATE TABLE tOrderDetail (\\n    order_id INTE...  \n",
       "7                                               None  \n",
       "8  CREATE TABLE tProd (\\n    prod_id INTEGER PRIM...  "
      ]
     },
     "execution_count": 18,
     "metadata": {},
     "output_type": "execute_result"
    }
   ],
   "source": [
    "store.RunQuery(\"SELECT * FROM sqlite_master;\")"
   ]
  }
 ],
 "metadata": {
  "kernelspec": {
   "display_name": "Python 3 (ipykernel)",
   "language": "python",
   "name": "python3"
  },
  "language_info": {
   "codemirror_mode": {
    "name": "ipython",
    "version": 3
   },
   "file_extension": ".py",
   "mimetype": "text/x-python",
   "name": "python",
   "nbconvert_exporter": "python",
   "pygments_lexer": "ipython3",
   "version": "3.8.8"
  }
 },
 "nbformat": 4,
 "nbformat_minor": 5
}
